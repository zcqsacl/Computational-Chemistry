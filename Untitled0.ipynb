{
  "cells": [
    {
      "cell_type": "code",
      "execution_count": 1,
      "metadata": {
        "id": "0Q8WQfcC13qo",
        "colab": {
          "base_uri": "https://localhost:8080/"
        },
        "outputId": "c99dcae7-cf7c-41ec-bda8-df58218622dd"
      },
      "outputs": [
        {
          "output_type": "stream",
          "name": "stdout",
          "text": [
            "Collecting vegas\n",
            "  Downloading vegas-6.3-cp311-cp311-manylinux_2_17_x86_64.manylinux2014_x86_64.whl.metadata (1.9 kB)\n",
            "Requirement already satisfied: numpy>=1.24 in /usr/local/lib/python3.11/dist-packages (from vegas) (2.0.2)\n",
            "Collecting gvar>=13.1.5 (from vegas)\n",
            "  Downloading gvar-13.1.6-cp311-cp311-manylinux_2_17_x86_64.manylinux2014_x86_64.whl.metadata (2.0 kB)\n",
            "Requirement already satisfied: scipy>=1.11 in /usr/local/lib/python3.11/dist-packages (from gvar>=13.1.5->vegas) (1.15.3)\n",
            "Downloading vegas-6.3-cp311-cp311-manylinux_2_17_x86_64.manylinux2014_x86_64.whl (4.1 MB)\n",
            "\u001b[2K   \u001b[90m━━━━━━━━━━━━━━━━━━━━━━━━━━━━━━━━━━━━━━━━\u001b[0m \u001b[32m4.1/4.1 MB\u001b[0m \u001b[31m14.7 MB/s\u001b[0m eta \u001b[36m0:00:00\u001b[0m\n",
            "\u001b[?25hDownloading gvar-13.1.6-cp311-cp311-manylinux_2_17_x86_64.manylinux2014_x86_64.whl (7.6 MB)\n",
            "\u001b[2K   \u001b[90m━━━━━━━━━━━━━━━━━━━━━━━━━━━━━━━━━━━━━━━━\u001b[0m \u001b[32m7.6/7.6 MB\u001b[0m \u001b[31m11.3 MB/s\u001b[0m eta \u001b[36m0:00:00\u001b[0m\n",
            "\u001b[?25hInstalling collected packages: gvar, vegas\n",
            "Successfully installed gvar-13.1.6 vegas-6.3\n"
          ]
        }
      ],
      "source": [
        "import numpy as np\n",
        "import pandas as pd\n",
        "import sympy as sp\n",
        "from sympy import Matrix, symbols\n",
        "from scipy.integrate import nquad\n",
        "from concurrent.futures import ProcessPoolExecutor\n",
        "!pip install vegas\n",
        "import vegas"
      ]
    },
    {
      "cell_type": "markdown",
      "metadata": {
        "id": "tf0X9SHDf1cD"
      },
      "source": [
        "#1. Define atomic coordinates, nuclear charges and orbitals"
      ]
    },
    {
      "cell_type": "code",
      "execution_count": 2,
      "metadata": {
        "colab": {
          "base_uri": "https://localhost:8080/"
        },
        "id": "w8KzevUxfFan",
        "outputId": "abcf9673-e157-44b5-a059-86259997e033"
      },
      "outputs": [
        {
          "output_type": "stream",
          "name": "stdout",
          "text": [
            "  Atom_label  Z    x        y        z\n",
            "0          O  8  0.0  0.00000  0.00000\n",
            "1          H  1  0.0  0.75545 -0.58895\n",
            "2          H  1  0.0 -0.75545 -0.58895\n",
            "number of electrons = 10\n"
          ]
        }
      ],
      "source": [
        "##Molecule (e.g. water)\n",
        "\n",
        "Molecule = {\n",
        "    \"Atom_label\": [\"O\", \"H\", \"H\"],\n",
        "    \"Z\": [8, 1, 1],\n",
        "    \"x\": [0.00000, 0.00000, 0.00000],\n",
        "    \"y\": [0.00000, 0.75545, -0.75545],\n",
        "    \"z\": [0.00000, -0.58895, -0.58895]\n",
        "}\n",
        "\n",
        "df = pd.DataFrame(Molecule)\n",
        "print(df)\n",
        "\n",
        "\n",
        "##Orbitals\n",
        "\n",
        "#Define symbolic coordinates for integration via Sympy\n",
        "\n",
        "x, y, z = sp.symbols('x y z')\n",
        "r = (x, y, z)\n",
        "\n",
        "def gto_1s(r, center=(0, 0, 0), alpha=1):\n",
        "  x, y, z = r\n",
        "  Rx, Ry, Rz = center\n",
        "  return ((2*alpha)/sp.pi)**0.75 * sp.exp(-alpha*((x - Rx)**2 + (y - Ry)**2 + (z - Rz)**2))\n",
        "\n",
        "def gto_2s(r, center=(0, 0, 0), alpha=1):\n",
        "  x, y, z = r\n",
        "  Rx, Ry, Rz = center\n",
        "  return ((2*alpha)/sp.pi)**0.75 * sp.exp(-alpha*((x - Rx)**2 + (y - Ry)**2 + (z - Rz)**2))\n",
        "\n",
        "def gto_2px(r, center=(0, 0, 0), alpha=1):\n",
        "  x, y, z = r\n",
        "  Rx, Ry, Rz = center\n",
        "  return ((2**1.5*alpha**2.5)/(sp.pi)**1.5)**0.5*x*sp.exp(-alpha*((x - Rx)**2 + (y - Ry)**2 + (z - Rz)**2))\n",
        "\n",
        "def gto_2py(r, center=(0, 0, 0), alpha=1):\n",
        "  x, y, z = r\n",
        "  Rx, Ry, Rz = center\n",
        "  return ((2**1.5*alpha**2.5)/(sp.pi)**1.5)**0.5*y*sp.exp(-alpha*((x - Rx)**2 + (y - Ry)**2 + (z - Rz)**2))\n",
        "\n",
        "def gto_2pz(r, center=(0, 0, 0), alpha=1):\n",
        "  x, y, z = r\n",
        "  Rx, Ry, Rz = center\n",
        "  return ((2**1.5*alpha**2.5)/(sp.pi)**1.5)**0.5*z*sp.exp(-alpha*((x - Rx)**2 + (y - Ry)**2 + (z - Rz)**2))\n",
        "\n",
        "n_electrons = sum(Molecule[\"Z\"])\n",
        "print(\"number of electrons =\", n_electrons)\n",
        "\n",
        "basis_set = [gto_1s(r, center=(Molecule['x'][0], Molecule['y'][0], Molecule['z'][0]), alpha=131),\n",
        "             gto_2s(r, center=(Molecule['x'][0], Molecule['y'][0], Molecule['z'][0]), alpha=5),\n",
        "             gto_2px(r, center=(Molecule['x'][0], Molecule['y'][0], Molecule['z'][0]), alpha=5),\n",
        "             gto_2py(r, center=(Molecule['x'][0], Molecule['y'][0], Molecule['z'][0]), alpha=5),\n",
        "             gto_2pz(r, center=(Molecule['x'][0], Molecule['y'][0], Molecule['z'][0]), alpha=5),\n",
        "             gto_1s(r, center=(Molecule['x'][1], Molecule['y'][1], Molecule['z'][1]), alpha=3),\n",
        "             gto_1s(r, center=(Molecule['x'][2], Molecule['y'][2], Molecule['z'][2]), alpha=3)\n",
        "]\n",
        "\n",
        "# N.B. Approximate alpha coefficients taken from https://www.basissetexchange.org/"
      ]
    },
    {
      "cell_type": "markdown",
      "metadata": {
        "id": "3KGeFtiC6RZH"
      },
      "source": [
        "#2. Calculating one-electron integrals of the Fock matrix [H_core = T + V_{e-nuc}]"
      ]
    },
    {
      "cell_type": "code",
      "execution_count": 10,
      "metadata": {
        "colab": {
          "base_uri": "https://localhost:8080/"
        },
        "id": "t13IiXma6Qnk",
        "outputId": "47f3090d-dd77-461d-d7ed-6eea192e726b"
      },
      "outputs": [
        {
          "output_type": "stream",
          "name": "stdout",
          "text": [
            "[[ 1.83835496e+02  3.32772961e+00 -1.18832109e-04  1.60408999e-04\n",
            "          1.69600468e-04 -7.61234340e-02 -7.60887348e-02]        \n",
            " [ 3.40131204e+00  7.50676246e+00  2.67966756e-03  3.25123907e-03\n",
            "         -1.87700137e-03 -1.41139669e-01 -1.40498721e-01]        \n",
            " [-1.73894453e-03 -2.52642443e-03  3.12517642e+00  7.29611092e-04\n",
            "         -3.17491620e-03 -2.82542664e-04  6.33660630e-05]        \n",
            " [ 5.13431565e-03 -5.18264527e-04 -6.41117746e-04  3.12617063e+00\n",
            "          2.59912840e-04  3.15333692e-01 -3.15868423e-01]        \n",
            " [ 3.95132280e-07 -5.54051037e-05 -1.42948412e-03 -1.12434055e-03\n",
            "          3.12764854e+00 -2.46137773e-01 -2.45976091e-01]        \n",
            " [-8.53301267e-07 -1.40026635e-01  7.22688978e-04  3.16077066e-01\n",
            "         -2.46790215e-01  4.50259500e+00 -1.88121819e-01]        \n",
            " [-7.14036074e-02 -1.41306981e-01  3.08069268e-04 -3.14990678e-01\n",
            "         -2.47151619e-01 -1.87884428e-01  4.50113575e+00]]       \n"
          ]
        }
      ],
      "source": [
        "#Constructing T matrix\n",
        "#precompute laplacians for efficiency\n",
        "\n",
        "x, y, z, alpha, Rx, Ry, Rz = sp.symbols('x y z alpha Rx Ry Rz')\n",
        "laplacians = [sp.diff(phi, x, 2) + sp.diff(phi, y, 2) + sp.diff(phi, z, 2) for phi in basis_set]\n",
        "\n",
        "\n",
        "\n",
        "def t_ij(i, j, basis_set, laplacians):\n",
        "  integrand = sp.lambdify([[x, y, z]], -0.5 * basis_set[i] * laplacians[j], modules='numpy')\n",
        "  integrator = vegas.Integrator([[-5, 5], [-5, 5], [-5, 5]])\n",
        "  t = integrator(integrand, nitn=50, neval=10000).mean\n",
        "  return t\n",
        "\n",
        "\n",
        "#Parallelisation needed to compute 7x7 matrix within ~15mins\n",
        "\n",
        "def parallel_T_matrix(basis_set, laplacians):\n",
        "    n = len(basis_set)\n",
        "    T = np.zeros((n, n))\n",
        "    with ProcessPoolExecutor(max_workers=8) as executor:\n",
        "        futures = [[executor.submit(t_ij, i, j, basis_set, laplacians) for j in range(n)] for i in range(n)]\n",
        "        for i in range(n):\n",
        "            for j in range(n):\n",
        "                T[i, j] = futures[i][j].result()\n",
        "    return T\n",
        "\n",
        "T = parallel_T_matrix(basis_set, laplacians)\n",
        "\n",
        "print(T)"
      ]
    },
    {
      "cell_type": "code",
      "execution_count": null,
      "metadata": {
        "id": "gX8C1XquFCKw"
      },
      "outputs": [],
      "source": [
        "#Constructing V matrix\n",
        "\n",
        "x, y, z, alpha, Rx, Ry, Rz = sp.symbols('x y z alpha Rx Ry Rz')\n",
        "\n",
        "\n",
        "#constructing V_func = -Sigma(Z/abs(r - R)) term:\n",
        "\n",
        "V_funcs = 0\n",
        "for i in range(len(Molecule[\"Z\"])):\n",
        "  V_func = - Molecule[\"Z\"][i] / (sp.sqrt((x - Molecule[\"x\"][i])**2 + (y - Molecule[\"y\"][i])**2 + (z - Molecule[\"z\"][i])**2))\n",
        "  V_funcs += V_func\n",
        "\n",
        "\n",
        "#precomuting integrands\n",
        "\n",
        "integrands = [[sp.lambdify((x, y, z), V_funcs * basis_set[i] * basis_set[j], modules='numpy')\n",
        "              for j in range(len(basis_set))] for i in range(len(basis_set))]\n",
        "\n",
        "def v_ij(i, j, basis_set):\n",
        "  integrand = sp.lambdify([[x, y, z]], V_funcs * basis_set[i] * basis_set[j], modules='numpy')\n",
        "  integrator = vegas.Integrator([[-5, 5], [-5, 5], [-5, 5]])\n",
        "  v = integrator(integrand, nitn=50, neval=10000).mean\n",
        "  return v\n",
        "\n",
        "def parallel_V_matrix(basis_set):\n",
        "    n = len(basis_set)\n",
        "    V = np.zeros((n, n))\n",
        "    with ProcessPoolExecutor(max_workers=8) as executor:\n",
        "        futures = [[executor.submit(v_ij, i, j) for j in range(n)] for i in range(n)]\n",
        "        for i in range(n):\n",
        "            for j in range(n):\n",
        "                V[i, j] = futures[i][j].result()\n",
        "    return V\n",
        "\n",
        "V = parallel_V_matrix(basis_set=basis_set)\n",
        "\n",
        "np.set_printoptions(precision=12, suppress=False, linewidth=200, threshold=np.inf)\n",
        "print(V)\n"
      ]
    },
    {
      "cell_type": "markdown",
      "source": [
        "#3. Initial guess at the coefficient matrix C using Huckel theory *since bonding has to be specified explicitly, this is only applicable to water\n"
      ],
      "metadata": {
        "id": "9dhg07FAsU95"
      }
    },
    {
      "cell_type": "code",
      "source": [
        "# Obtain AO coefficient eigenvectors, then concatenate them into C\n",
        "# N.B. we have to ensure that C is a 7x7 matrix so that its dimensionality...\n",
        "#... matches with the Fock matrix. Therefore we assume that any pair of...\n",
        "#... orbitals from different atoms = beta.\n",
        "\n",
        "alpha, beta, E = sp.symbols('alpha beta E')\n",
        "\n",
        "# Basis: O(1s), O(2s), O(2Px), O(2Py), O(2Pz), H_1(1s), H_2(1s)\n",
        "# alpha = 0, beta = -1\n",
        "\n",
        "Secular_Matrix = Matrix([\n",
        "[- E, 0, 0, 0, 0, -1, -1],\n",
        "[0, - E, 0, 0, 0, -1, -1],\n",
        "[0, 0, - E, 0, 0, -1, -1],\n",
        "[0, 0, 0, - E, 0, -1, -1],\n",
        "[0, 0, 0, 0, - E, -1, -1],\n",
        "[-1, -1, -1, -1, -1, - E, 0],\n",
        "[-1, -1, -1, -1, -1, 0, - E]])\n",
        "\n",
        "c_eigenvectors = Secular_Matrix.eigenvects()\n",
        "\n",
        "C = []\n",
        "\n",
        "for eigval, multiplicity, eigenvec_list in c_eigenvectors:\n",
        "  for vec in eigenvec_list:\n",
        "    vec = vec / vec.norm()\n",
        "    C.append(vec)\n",
        "\n",
        "C = Matrix.hstack(*C)\n",
        "\n",
        "sp.pprint(C)"
      ],
      "metadata": {
        "colab": {
          "base_uri": "https://localhost:8080/"
        },
        "id": "X1AMJLpArPif",
        "outputId": "20e15c6b-5acc-49de-b394-2d702f0e3b13"
      },
      "execution_count": null,
      "outputs": [
        {
          "output_type": "stream",
          "name": "stdout",
          "text": [
            "⎡-√2   -√2   -√2   -√2         √10  -√10 ⎤\n",
            "⎢────  ────  ────  ────   0    ───  ─────⎥\n",
            "⎢ 2     2     2     2          10    10  ⎥\n",
            "⎢                                        ⎥\n",
            "⎢ √2                           √10  -√10 ⎥\n",
            "⎢ ──    0     0     0     0    ───  ─────⎥\n",
            "⎢ 2                            10    10  ⎥\n",
            "⎢                                        ⎥\n",
            "⎢       √2                     √10  -√10 ⎥\n",
            "⎢ 0     ──    0     0     0    ───  ─────⎥\n",
            "⎢       2                      10    10  ⎥\n",
            "⎢                                        ⎥\n",
            "⎢             √2               √10  -√10 ⎥\n",
            "⎢ 0     0     ──    0     0    ───  ─────⎥\n",
            "⎢             2                10    10  ⎥\n",
            "⎢                                        ⎥\n",
            "⎢                   √2         √10  -√10 ⎥\n",
            "⎢ 0     0     0     ──    0    ───  ─────⎥\n",
            "⎢                   2          10    10  ⎥\n",
            "⎢                                        ⎥\n",
            "⎢                        -√2             ⎥\n",
            "⎢ 0     0     0     0    ────  1/2   1/2 ⎥\n",
            "⎢                         2              ⎥\n",
            "⎢                                        ⎥\n",
            "⎢                         √2             ⎥\n",
            "⎢ 0     0     0     0     ──   1/2   1/2 ⎥\n",
            "⎣                         2              ⎦\n"
          ]
        }
      ]
    },
    {
      "cell_type": "markdown",
      "source": [
        "#4. Calculating S, U and X such that\n",
        "#(U^T S U) = s;\n",
        "#(X^T S X) = I."
      ],
      "metadata": {
        "id": "EiKd6CkIZ7Wt"
      }
    },
    {
      "cell_type": "code",
      "source": [
        "#Calculating the overlap integral S\n",
        "\n",
        "def s_ij(i, j, basis_set):\n",
        "  integrand = sp.lambdify([[x, y, z]], basis_set[i] * basis_set[j], modules='numpy')\n",
        "  integrator = vegas.Integrator([[-5, 5], [-5, 5], [-5, 5]])\n",
        "  s = integrator(integrand, nitn=50, neval=10000).mean\n",
        "  return s\n",
        "\n",
        "def parallel_S_matrix(basis_set):\n",
        "  n = len(basis_set)\n",
        "  S = np.zeros((n, n))\n",
        "  with ProcessPoolExecutor(max_workers=8) as executor:\n",
        "    futures = [[executor.submit(s_ij, i, j, basis_set)\n",
        "    for j in range(len(basis_set))] for i in range(len(basis_set))]\n",
        "    for i in range(len(basis_set)):\n",
        "      for j in range(len(basis_set)):\n",
        "        S[i, j] = futures[i][j].result()\n",
        "  return S\n",
        "\n",
        "S = parallel_S_matrix(basis_set=basis_set)\n",
        "\n",
        "sp.pprint(S)\n",
        "\n",
        "\n",
        "#Obtaining U and X\n",
        "\n",
        "eigenvalues, eigenvectors = np.linalg.eig(S)\n",
        "\n",
        "U = eigenvectors\n",
        "\n",
        "s_inv_sqrt = np.diag(eigenvalues**-0.5)\n",
        "\n",
        "X = U @ s_inv_sqrt\n",
        "\n",
        "#Check that X^T S X = I\n",
        "\n",
        "sp.pprint(X.T @ S @ X)\n"
      ],
      "metadata": {
        "colab": {
          "base_uri": "https://localhost:8080/"
        },
        "id": "WH_HeI08cV6p",
        "outputId": "f50edfec-e76b-4fef-c8b7-8f7b6cbf8e2b"
      },
      "execution_count": 3,
      "outputs": [
        {
          "output_type": "stream",
          "name": "stdout",
          "text": [
            "[[ 9.93094050e-01  2.30770774e-01  1.07492430e-06 -1.06270677e-06\n",
            "         -1.68707372e-05  1.09059019e-02  1.09040523e-02]        \n",
            " [ 2.30770774e-01  9.99548613e-01  6.11279175e-05  2.59476435e-05\n",
            "          3.06291959e-04  1.70457583e-01  1.70496131e-01]        \n",
            " [ 5.71925810e-13  5.90338302e-05  2.50031251e-01  6.42281629e-05\n",
            "         -3.80671240e-05  2.70532580e-05  3.59483553e-05]        \n",
            " [-2.18326632e-05  6.06251205e-05  7.72620970e-05  2.50040107e-01\n",
            "         -1.29749229e-04  1.07941757e-01 -1.08069176e-01]        \n",
            " [-2.28647340e-06 -9.62550070e-05 -4.71334170e-05  1.43831014e-05\n",
            "          2.50092257e-01 -8.41422252e-02 -8.41445057e-02]        \n",
            " [ 1.09109320e-02  1.70531359e-01  3.17765765e-06  1.08014665e-01\n",
            "         -8.42216830e-02  1.00010284e+00  3.25706151e-02]        \n",
            " [ 1.05091384e-02  1.70540061e-01 -1.88970789e-05 -1.07970972e-01\n",
            "         -8.41468684e-02  3.25716605e-02  9.99811078e-01]]       \n",
            "[[ 1.00000000e+00  1.39713834e-04 -3.16808236e-04  3.34675309e-04\n",
            "         -8.70675151e-05  2.60353642e-05 -1.13543604e-05]        \n",
            " [ 2.75364702e-04  1.00000000e+00  9.56361115e-04 -4.82042895e-04\n",
            "          3.73944278e-04  1.18734112e-04 -3.22600238e-05]        \n",
            " [-4.26200233e-04  6.52785158e-04  1.00000000e+00 -2.91704417e-02\n",
            "          6.25679249e-05  8.74963706e-06 -2.51564710e-05]        \n",
            " [ 4.53412356e-04 -3.31349642e-04 -2.93761896e-02  1.00000000e+00\n",
            "          5.08496035e-05 -1.08324539e-05  1.65734981e-05]        \n",
            " [-5.11112250e-04  1.11377682e-03  2.73020132e-04  2.20332232e-04\n",
            "          1.00000000e+00  1.26549386e-02  9.46919882e-04]        \n",
            " [ 1.60919520e-04  3.72350310e-04  4.01992444e-05 -4.94199432e-05\n",
            "          1.33243175e-02  1.00000000e+00  3.01820965e-04]        \n",
            " [-6.14339797e-05 -8.85608550e-05 -1.01176225e-04  6.61897104e-05\n",
            "          8.72768516e-04  2.64210643e-04  1.00000000e+00]]       \n"
          ]
        }
      ]
    },
    {
      "cell_type": "markdown",
      "source": [
        "#5. Computing the density matrix P and then coulomb and exchange integrals J and K"
      ],
      "metadata": {
        "id": "IQn4Bpx6qg0R"
      }
    },
    {
      "cell_type": "code",
      "source": [
        "#Obtaining P = 2 * Simga(occupied MOs)(C_ia^* * C_ja)\n",
        "\n",
        "C = [\n",
        "    [-np.sqrt(2)/2, -np.sqrt(2)/2, -np.sqrt(2)/2, -np.sqrt(2)/2,        0,  np.sqrt(10)/10, -np.sqrt(10)/10],\n",
        "    [ np.sqrt(2)/2,        0,              0,              0,          0,  np.sqrt(10)/10, -np.sqrt(10)/10],\n",
        "    [       0,       np.sqrt(2)/2,         0,              0,          0,  np.sqrt(10)/10, -np.sqrt(10)/10],\n",
        "    [       0,             0,        np.sqrt(2)/2,         0,          0,  np.sqrt(10)/10, -np.sqrt(10)/10],\n",
        "    [       0,             0,              0,        np.sqrt(2)/2,     0,  np.sqrt(10)/10, -np.sqrt(10)/10],\n",
        "    [       0,             0,              0,              0,  -np.sqrt(2)/2,     0.5,       0.5],\n",
        "    [       0,             0,              0,              0,   np.sqrt(2)/2,     0.5,       0.5]\n",
        "]\n",
        "\n",
        "n = len(basis_set)\n",
        "P = np.zeros((n, n))\n",
        "n_occ = n_electrons // 2\n",
        "\n",
        "C = np.array(C)\n",
        "C_occ = C[:, :n_occ]\n",
        "\n",
        "\n",
        "for i in range(n):\n",
        "  for mu in range(n):\n",
        "    for nu in range(n):\n",
        "      P[mu, nu] += 2*(C[mu, i] * C[nu, i])\n",
        "\n",
        "sp.pprint(P)"
      ],
      "metadata": {
        "colab": {
          "base_uri": "https://localhost:8080/"
        },
        "id": "0TvKbxtsojx-",
        "outputId": "510161ce-53d3-4bd9-9181-d507b966bfc5"
      },
      "execution_count": null,
      "outputs": [
        {
          "output_type": "stream",
          "name": "stdout",
          "text": [
            "[[ 4.40000000e+00 -6.00000000e-01 -6.00000000e-01 -6.00000000e-01\n",
            "         -6.00000000e-01  0.00000000e+00  0.00000000e+00]        \n",
            " [-6.00000000e-01  1.40000000e+00  4.00000000e-01  4.00000000e-01\n",
            "          4.00000000e-01  0.00000000e+00  0.00000000e+00]        \n",
            " [-6.00000000e-01  4.00000000e-01  1.40000000e+00  4.00000000e-01\n",
            "          4.00000000e-01  0.00000000e+00  0.00000000e+00]        \n",
            " [-6.00000000e-01  4.00000000e-01  4.00000000e-01  1.40000000e+00\n",
            "          4.00000000e-01  0.00000000e+00  0.00000000e+00]        \n",
            " [-6.00000000e-01  4.00000000e-01  4.00000000e-01  4.00000000e-01\n",
            "          1.40000000e+00  0.00000000e+00  0.00000000e+00]        \n",
            " [ 0.00000000e+00  0.00000000e+00  0.00000000e+00  0.00000000e+00\n",
            "          0.00000000e+00  2.00000000e+00 -2.22044605e-16]        \n",
            " [ 0.00000000e+00  0.00000000e+00  0.00000000e+00  0.00000000e+00\n",
            "          0.00000000e+00 -2.22044605e-16  2.00000000e+00]]       \n"
          ]
        }
      ]
    },
    {
      "cell_type": "code",
      "source": [
        "# J = SIGMA(lambda sigma)(P_{lambda sigma} * (mu nu | lambda sigma))\n",
        "# First define the 4-index integral (mu nu | lambda sigma):\n",
        "\n",
        "def r12_inv(x1, y1, z1, x2, y2, z2):\n",
        "    return (1 / np.sqrt((x1 - x2)**2 + (y1 - y2)**2 + (z1 - z2)**2))\n",
        "\n",
        "def integrand_JK(x1, y1, z1, x2, y2, z2, bf1, bf2, bf3, bf4):\n",
        "    return bf1(x1,y1,z1) * bf2(x1,y1,z1) * r12_inv(x1,y1,z1,x2,y2,z2) * bf3(x2,y2,z2) * bf4(x2,y2,z2)\n",
        "\n",
        "for i in range(n):\n",
        "    for j in range(n):\n",
        "        for k in range(n):\n",
        "            for l in range(n):\n",
        "                symbolic_J_integrand = integrand_JK(x1,y1,z1,x2,y2,z2, basis_set[i], basis_set[j], basis_set[k], basis_set[l])\n",
        "                numeric_J_integrand[i,j,k,l] = sp.lambdify((x1,y1,z1,x2,y2,z2), symbolic_J_integrand, 'numpy')\n",
        "\n",
        "                symbolic_K_integrand = integrand_JK(x1,y1,z1,x2,y2,z2, basis_set[i], basis_set[k], basis_set[j], basis_set[l])\n",
        "                numeric_K_integrand[i,j,k,l] = sp.lambdify((x1,y1,z1,x2,y2,z2), symbolic_K_integrand, 'numpy')\n",
        "\n",
        "\n",
        "# Use vegas monte carlo integrator (faster than analytic integrators)\n",
        "# Re-initialise the integrator on each run so that its monte carlo adaptive sampling doesnt carry over\n",
        "\n",
        "\n",
        "def j_ij(i, j):\n",
        "  j = 0\n",
        "  for k in range(len(basis_set)):\n",
        "    for l in range(len(basis_set)):\n",
        "      integrator = vegas.Integrator([[-5,5], [-5,5], [-5,5], [-5,5], [-5,5], [-5,5]])\n",
        "      j += P[k, l] * integrator(numeric_J_integrand[i,j,k,l], nitn=10, neval=10000).mean\n",
        "  return j\n",
        "\n",
        "\n",
        "def k_ij(i, j):\n",
        "  k = 0\n",
        "  for k in range(len(basis_set)):\n",
        "    for l in range(len(basis_set)):\n",
        "      integrator = vegas.Integrator([[-5,5], [-5,5], [-5,5], [-5,5], [-5,5], [-5,5]])\n",
        "      k += P[k, l] * integrator(numeric_K_integrand[i,k,j,l], nitn=10, neval=10000).mean\n",
        "  return k\n",
        "\n",
        "\n",
        "# P is just a coefficient matrix so we can multiply it by the integrands pre-integration.\n",
        "\n",
        "def parallel_J_matrix(basis_set):\n",
        "  n = len(basis_set)\n",
        "  J = np.zeros((n, n))\n",
        "  with ProcessPoolExecutor(max_workers=8) as executor:\n",
        "    futures = [[executor.submit(j_ij, i, j) for i in range(n)]\n",
        "               for j in range(n)]\n",
        "      for i in range(n):\n",
        "        for j in range(n):\n",
        "          J[i, j] = futures[i][j].result()\n",
        "  return J\n",
        "\n",
        "def parallel_K_matrix(basis_set):\n",
        "  n = len(basis_set)\n",
        "  K = np.zeros((n, n))\n",
        "  with ProcessPoolExecutor(max_workers=8) as executor:\n",
        "    futures = [[executor.submit(k_ij, i, j) for i in range(n)]\n",
        "               for j in range(n)]\n",
        "      for i in range(n):\n",
        "        for j in range(n):\n",
        "          K[i, j] = futures[i][j].result()\n",
        "  return K\n",
        "\n",
        "F = np.zeros((n, n))\n",
        "F[i, j] = T[i, j] + V[i, j] + J[i, j] - 0.5 * K[i, j]\n",
        "\n",
        "sp.pprint(F)"
      ],
      "metadata": {
        "id": "Fh-ELL9fwmqh",
        "colab": {
          "base_uri": "https://localhost:8080/",
          "height": 106
        },
        "outputId": "ce1c9e16-fa33-4780-993d-9e0a87ae6335"
      },
      "execution_count": null,
      "outputs": [
        {
          "output_type": "error",
          "ename": "SyntaxError",
          "evalue": "expected '(' (<ipython-input-1-bb120bf64f07>, line 7)",
          "traceback": [
            "\u001b[0;36m  File \u001b[0;32m\"<ipython-input-1-bb120bf64f07>\"\u001b[0;36m, line \u001b[0;32m7\u001b[0m\n\u001b[0;31m    def integrand_J/K(x1, y1, z1, x2, y2, z2, bf1, bf2, bf3, bf4):\u001b[0m\n\u001b[0m                   ^\u001b[0m\n\u001b[0;31mSyntaxError\u001b[0m\u001b[0;31m:\u001b[0m expected '('\n"
          ]
        }
      ]
    },
    {
      "cell_type": "markdown",
      "source": [
        "#6. Solve F'C' = C'e for C' and e, then transform C' -> C -> P, then repeat steps 5 and 6 until e converges."
      ],
      "metadata": {
        "id": "zfQJFX0uJKbl"
      }
    },
    {
      "cell_type": "code",
      "source": [
        "# Transform F -> F' = X^T F X\n",
        "\n",
        "F = np.array([\n",
        "    [-20.5,  0.0,  0.0,  0.0,  0.0, -0.5, -0.5],\n",
        "    [  0.0, -1.3,  0.0,  0.0,  0.0,  0.4,  0.4],\n",
        "    [  0.0,  0.0, -0.9,  0.0,  0.0,  0.3, -0.3],\n",
        "    [  0.0,  0.0,  0.0, -0.9,  0.0,  0.3,  0.3],\n",
        "    [  0.0,  0.0,  0.0,  0.0, -0.7,  0.0,  0.0],\n",
        "    [ -0.5,  0.4,  0.3,  0.3,  0.0, -0.7,  0.0],\n",
        "    [ -0.5,  0.4, -0.3,  0.3,  0.0,  0.0, -0.7]\n",
        "])\n",
        "\n",
        "\n",
        "F_prime = X.T @ F @ X\n",
        "\n",
        "# Obtain eigenvectors (C') of the problem: (F' - e)(C') = 0\n",
        "\n",
        "e = sp.symbols('e')\n",
        "\n",
        "F_prime_less_e = F_prime - np.diag([e] * len(basis_set))\n",
        "\n",
        "eigenenergies, eigenvectors = np.linalg.eig(S)\n",
        "\n",
        "print(\"E_0 =\", min(eigenenergies))\n",
        "\n",
        "# Convert C' into C, via C = X C'\n",
        "\n",
        "C =\n",
        "\n",
        "\n",
        "\n",
        "\n"
      ],
      "metadata": {
        "colab": {
          "base_uri": "https://localhost:8080/"
        },
        "id": "CXHU_BS8Jz-p",
        "outputId": "4aee4ce6-cbe2-48bf-9be2-106f3cdd7c41"
      },
      "execution_count": 7,
      "outputs": [
        {
          "output_type": "stream",
          "name": "stdout",
          "text": [
            "E_0 = 0.2188747206321954\n"
          ]
        }
      ]
    }
  ],
  "metadata": {
    "colab": {
      "provenance": []
    },
    "kernelspec": {
      "display_name": "Python 3",
      "name": "python3"
    },
    "language_info": {
      "name": "python"
    }
  },
  "nbformat": 4,
  "nbformat_minor": 0
}