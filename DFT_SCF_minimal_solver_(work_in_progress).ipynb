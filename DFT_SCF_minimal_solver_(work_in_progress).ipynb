{
  "nbformat": 4,
  "nbformat_minor": 0,
  "metadata": {
    "colab": {
      "provenance": []
    },
    "kernelspec": {
      "name": "python3",
      "display_name": "Python 3"
    },
    "language_info": {
      "name": "python"
    }
  },
  "cells": [
    {
      "cell_type": "code",
      "source": [
        "import numpy as np\n",
        "import pandas as pd\n",
        "import sympy as sp\n",
        "from sympy import Matrix, symbols\n",
        "from scipy.integrate import nquad\n",
        "from concurrent.futures import ProcessPoolExecutor\n",
        "!pip install vegas\n",
        "import vegas"
      ],
      "metadata": {
        "colab": {
          "base_uri": "https://localhost:8080/"
        },
        "id": "poktDr7YCiod",
        "outputId": "7089823e-5d90-40fc-a207-a0e87476fd86"
      },
      "execution_count": 2,
      "outputs": [
        {
          "output_type": "stream",
          "name": "stdout",
          "text": [
            "Collecting vegas\n",
            "  Downloading vegas-6.3-cp311-cp311-manylinux_2_17_x86_64.manylinux2014_x86_64.whl.metadata (1.9 kB)\n",
            "Requirement already satisfied: numpy>=1.24 in /usr/local/lib/python3.11/dist-packages (from vegas) (2.0.2)\n",
            "Collecting gvar>=13.1.5 (from vegas)\n",
            "  Downloading gvar-13.1.6-cp311-cp311-manylinux_2_17_x86_64.manylinux2014_x86_64.whl.metadata (2.0 kB)\n",
            "Requirement already satisfied: scipy>=1.11 in /usr/local/lib/python3.11/dist-packages (from gvar>=13.1.5->vegas) (1.15.3)\n",
            "Downloading vegas-6.3-cp311-cp311-manylinux_2_17_x86_64.manylinux2014_x86_64.whl (4.1 MB)\n",
            "\u001b[2K   \u001b[90m━━━━━━━━━━━━━━━━━━━━━━━━━━━━━━━━━━━━━━━━\u001b[0m \u001b[32m4.1/4.1 MB\u001b[0m \u001b[31m31.6 MB/s\u001b[0m eta \u001b[36m0:00:00\u001b[0m\n",
            "\u001b[?25hDownloading gvar-13.1.6-cp311-cp311-manylinux_2_17_x86_64.manylinux2014_x86_64.whl (7.6 MB)\n",
            "\u001b[2K   \u001b[90m━━━━━━━━━━━━━━━━━━━━━━━━━━━━━━━━━━━━━━━━\u001b[0m \u001b[32m7.6/7.6 MB\u001b[0m \u001b[31m102.2 MB/s\u001b[0m eta \u001b[36m0:00:00\u001b[0m\n",
            "\u001b[?25hInstalling collected packages: gvar, vegas\n",
            "Successfully installed gvar-13.1.6 vegas-6.3\n"
          ]
        }
      ]
    },
    {
      "cell_type": "markdown",
      "source": [
        "#1. Specify Molecule (Define atomic coordinates, nuclear charges and orbitals)"
      ],
      "metadata": {
        "id": "j4BCbvRLB48k"
      }
    },
    {
      "cell_type": "code",
      "execution_count": 1,
      "metadata": {
        "colab": {
          "base_uri": "https://localhost:8080/",
          "height": 251
        },
        "id": "2PVbEzd4B351",
        "outputId": "bddaa710-81e7-4634-f637-ee873601d876"
      },
      "outputs": [
        {
          "output_type": "error",
          "ename": "NameError",
          "evalue": "name 'pd' is not defined",
          "traceback": [
            "\u001b[0;31m---------------------------------------------------------------------------\u001b[0m",
            "\u001b[0;31mNameError\u001b[0m                                 Traceback (most recent call last)",
            "\u001b[0;32m<ipython-input-1-2801372234>\u001b[0m in \u001b[0;36m<cell line: 0>\u001b[0;34m()\u001b[0m\n\u001b[1;32m     12\u001b[0m }\n\u001b[1;32m     13\u001b[0m \u001b[0;34m\u001b[0m\u001b[0m\n\u001b[0;32m---> 14\u001b[0;31m \u001b[0mdf\u001b[0m \u001b[0;34m=\u001b[0m \u001b[0mpd\u001b[0m\u001b[0;34m.\u001b[0m\u001b[0mDataFrame\u001b[0m\u001b[0;34m(\u001b[0m\u001b[0mMolecule\u001b[0m\u001b[0;34m)\u001b[0m\u001b[0;34m\u001b[0m\u001b[0;34m\u001b[0m\u001b[0m\n\u001b[0m\u001b[1;32m     15\u001b[0m \u001b[0mprint\u001b[0m\u001b[0;34m(\u001b[0m\u001b[0mdf\u001b[0m\u001b[0;34m)\u001b[0m\u001b[0;34m\u001b[0m\u001b[0;34m\u001b[0m\u001b[0m\n\u001b[1;32m     16\u001b[0m \u001b[0;34m\u001b[0m\u001b[0m\n",
            "\u001b[0;31mNameError\u001b[0m: name 'pd' is not defined"
          ]
        }
      ],
      "source": [
        "## Molecule (e.g. water)\n",
        "\n",
        "# N.B. distances are in Bohr radii (this will produce a final ground state energy in Hartrees)\n",
        "# Atomic coordinates of water taken from my UCL CHEM0028 notes\n",
        "\n",
        "Molecule = {\n",
        "    \"Atom_label\": [\"O\", \"H\", \"H\"],\n",
        "    \"Z\": [8, 1, 1],\n",
        "    \"x\": [0.00000, 0.00000, 0.00000],\n",
        "    \"y\": [0.00000, 1.42757, -1.42757],\n",
        "    \"z\": [0.00000, -1.11294, -1.11294]\n",
        "}\n",
        "\n",
        "df = pd.DataFrame(Molecule)\n",
        "print(df)\n",
        "\n",
        "\n",
        "## Orbitals\n",
        "\n",
        "# Define symbolic coordinates for integration via Sympy\n",
        "\n",
        "x, y, z = sp.symbols('x y z')\n",
        "r = (x, y, z)\n",
        "\n",
        "def sto_3G_1s(r, coeffs, alphas, center=(0, 0, 0)):\n",
        "  x, y, z = r\n",
        "  Rx, Ry, Rz = center\n",
        "  orbital_func = 0\n",
        "  for i in range(3):\n",
        "    orbital_func += coeffs[i]*((2*alphas[i])/sp.pi)**0.75 * sp.exp(-alphas[i] *((x - Rx)**2 + (y - Ry)**2 + (z - Rz)**2))\n",
        "  return orbital_func\n",
        "\n",
        "def sto_3G_2s(r, coeffs, alphas, center=(0, 0, 0)):\n",
        "  x, y, z = r\n",
        "  Rx, Ry, Rz = center\n",
        "  orbital_func = 0\n",
        "  for i in range(3):\n",
        "    orbital_func += coeffs[i]*((2*alphas[i])/sp.pi)**0.75 * sp.exp(-alphas[i]*((x - Rx)**2 + (y - Ry)**2 + (z - Rz)**2))\n",
        "  return orbital_func\n",
        "\n",
        "def sto_3G_2px(r, coeffs, alphas, center=(0, 0, 0)):\n",
        "  x, y, z = r\n",
        "  Rx, Ry, Rz = center\n",
        "  orbital_func = 0\n",
        "  for i in range(3):\n",
        "    orbital_func += coeffs[i]*((2**1.5*alphas[i]**2.5)/(sp.pi)**1.5)**0.5*(x - Rx)*sp.exp(-alphas[i]*((x - Rx)**2 + (y - Ry)**2 + (z - Rz)**2))\n",
        "  return orbital_func\n",
        "\n",
        "def sto_3G_2py(r, coeffs, alphas, center=(0, 0, 0)):\n",
        "  x, y, z = r\n",
        "  Rx, Ry, Rz = center\n",
        "  orbital_func = 0\n",
        "  for i in range(3):\n",
        "    orbital_func += coeffs[i]*((2**1.5*alphas[i]**2.5)/(sp.pi)**1.5)**0.5*(y - Ry)*sp.exp(-alphas[i]*((x - Rx)**2 + (y - Ry)**2 + (z - Rz)**2))\n",
        "  return orbital_func\n",
        "\n",
        "def sto_3G_2pz(r, coeffs, alphas, center=(0, 0, 0)):\n",
        "  x, y, z = r\n",
        "  Rx, Ry, Rz = center\n",
        "  orbital_func = 0\n",
        "  for i in range(3):\n",
        "    orbital_func += coeffs[i]*((2**1.5*alphas[i]**2.5)/(sp.pi)**1.5)**0.5*((z - Rz))*sp.exp(-alphas[i]*((x - Rx)**2 + (y - Ry)**2 + (z - Rz)**2))\n",
        "  return orbital_func\n",
        "\n",
        "n_electrons = sum(Molecule[\"Z\"])\n",
        "print(\"number of electrons =\", n_electrons)\n",
        "\n",
        "basis_set = [sto_3G_1s(r, center=(Molecule['x'][0], Molecule['y'][0], Molecule['z'][0]),\n",
        "        coeffs = [0.15432896, 0.53532814, 0.44463454], alphas = [130.709321, 23.80886605, 6.44360831]),\n",
        "             sto_3G_2s(r, center=(Molecule['x'][0], Molecule['y'][0], Molecule['z'][0]),\n",
        "        coeffs = [-0.0999672, 0.39951282, 0.70011546], alphas = [5.0331513, 1.1695961, 0.38038896]),\n",
        "             sto_3G_2px(r, center=(Molecule['x'][0], Molecule['y'][0], Molecule['z'][0]),\n",
        "        coeffs = [0.15591627, 0.60768371, 0.39195739], alphas = [5.0331513, 1.1695961, 0.38038896]),\n",
        "             sto_3G_2py(r, center=(Molecule['x'][0], Molecule['y'][0], Molecule['z'][0]),\n",
        "        coeffs = [0.15591627, 0.60768371, 0.39195739], alphas = [5.0331513, 1.1695961, 0.38038896]),\n",
        "             sto_3G_2pz(r, center=(Molecule['x'][0], Molecule['y'][0], Molecule['z'][0]),\n",
        "        coeffs = [0.15591627, 0.60768371, 0.39195739], alphas = [5.0331513, 1.1695961, 0.38038896]),\n",
        "             sto_3G_1s(r, center=(Molecule['x'][1], Molecule['y'][1], Molecule['z'][1]),\n",
        "        coeffs = [0.15432896, 0.53532814, 0.44463454], alphas = [3.4252509, 0.62391372, 0.16885540]),\n",
        "             sto_3G_1s(r, center=(Molecule['x'][2], Molecule['y'][2], Molecule['z'][2]),\n",
        "        coeffs = [0.15432896, 0.53532814, 0.44463454], alphas = [3.4252509, 0.62391372, 0.16885540])\n",
        "]\n",
        "\n",
        "# N.B. Approximate alpha coefficients taken from https://www.basissetexchange.org/"
      ]
    },
    {
      "cell_type": "markdown",
      "source": [
        "#2. Calculating T and V using basis states (just as in HFSCF)"
      ],
      "metadata": {
        "id": "CXh9NivlCssA"
      }
    },
    {
      "cell_type": "code",
      "source": [
        "#Constructing T matrix\n",
        "#precompute laplacians for efficiency\n",
        "\n",
        "x, y, z, alpha, Rx, Ry, Rz = sp.symbols('x y z alpha Rx Ry Rz')\n",
        "laplacians = [sp.diff(phi, x, 2) + sp.diff(phi, y, 2) + sp.diff(phi, z, 2) for phi in basis_set]\n",
        "\n",
        "\n",
        "\n",
        "def t_ij(i, j, basis_set, laplacians):\n",
        "  integrand = sp.lambdify([[x, y, z]], -0.5 * basis_set[i] * laplacians[j], modules='numpy')\n",
        "  integrator = vegas.Integrator([[-3, 3], [-3, 3], [-3, 3]])\n",
        "  t = integrator(integrand, nitn=50, neval=10000).mean\n",
        "  return t\n",
        "\n",
        "\n",
        "#Parallelisation needed to compute 7x7 matrix within a few mins\n",
        "\n",
        "def parallel_T_matrix(basis_set, laplacians):\n",
        "    n = len(basis_set)\n",
        "    T = np.zeros((n, n))\n",
        "    with ProcessPoolExecutor(max_workers=8) as executor:\n",
        "        futures = [[executor.submit(t_ij, i, j, basis_set, laplacians) for j in range(n)] for i in range(n)]\n",
        "        for i in range(n):\n",
        "            for j in range(n):\n",
        "                T[i, j] = futures[i][j].result()\n",
        "        # Calculate Oxygen 1s KE separately since numeric integration struggles to capture it\n",
        "    integrand_sym = -0.5 * basis_set[0] * laplacians[0]  # symbolic expression\n",
        "    T00_sym = sp.integrate(integrand_sym, (x, -sp.oo, sp.oo), (y, -sp.oo, sp.oo), (z, -sp.oo, sp.oo))\n",
        "    T[0, 0] = float(T00_sym.evalf())\n",
        "    return T\n",
        "\n",
        "T = parallel_T_matrix(basis_set, laplacians)\n",
        "\n",
        "print(T)"
      ],
      "metadata": {
        "id": "GVXaeqxSC_o6"
      },
      "execution_count": null,
      "outputs": []
    },
    {
      "cell_type": "code",
      "source": [
        "#Constructing V matrix\n",
        "x, y, z, alpha, Rx, Ry, Rz = sp.symbols('x y z alpha Rx Ry Rz')\n",
        "\n",
        "\n",
        "#constructing V_func = -Sigma(Z/abs(r - R)) term:\n",
        "V_funcs = 0\n",
        "for i in range(len(Molecule[\"Z\"])):\n",
        "  V_func = - Molecule[\"Z\"][i] / (sp.sqrt((x - Molecule[\"x\"][i])**2 + (y - Molecule[\"y\"][i])**2 + (z - Molecule[\"z\"][i])**2))\n",
        "  V_funcs += V_func\n",
        "\n",
        "\n",
        "#precomuting integrands\n",
        "integrands = [[sp.lambdify((x, y, z), V_funcs * basis_set[i] * basis_set[j], modules='numpy')\n",
        "              for j in range(len(basis_set))] for i in range(len(basis_set))]\n",
        "\n",
        "def v_ij(i, j, basis_set):\n",
        "  integrand = sp.lambdify([[x, y, z]], V_funcs * basis_set[i] * basis_set[j], modules='numpy')\n",
        "  integrator = vegas.Integrator([[-3, 3], [-3, 3], [-3, 3]])\n",
        "  v = integrator(integrand, nitn=50, neval=10000).mean\n",
        "  return v\n",
        "\n",
        "def parallel_V_matrix(basis_set):\n",
        "    n = len(basis_set)\n",
        "    V = np.zeros((n, n))\n",
        "    with ProcessPoolExecutor(max_workers=8) as executor:\n",
        "        futures = [[executor.submit(v_ij, i, j, basis_set) for j in range(n)] for i in range(n)]\n",
        "        for i in range(n):\n",
        "            for j in range(n):\n",
        "                V[i, j] = futures[i][j].result()\n",
        "    return V\n",
        "\n",
        "V = parallel_V_matrix(basis_set=basis_set)\n",
        "\n",
        "print(V)"
      ],
      "metadata": {
        "id": "NjiSJi4PDBM-"
      },
      "execution_count": null,
      "outputs": []
    },
    {
      "cell_type": "markdown",
      "source": [
        "#3. Define the E_XC functional (e.g. B3LYP) and then determine V_XC via differentiation"
      ],
      "metadata": {
        "id": "cuk75sLmDSI2"
      }
    },
    {
      "cell_type": "code",
      "source": [],
      "metadata": {
        "id": "g3I_qGgMPk8v"
      },
      "execution_count": null,
      "outputs": []
    },
    {
      "cell_type": "markdown",
      "source": [
        "#4. Guess the coefficient matrix C using Huckel and then construct the density matrix P. Finally, formulate guess for the density function rho via rho = SUM(P_ij chi_i, chi_j)."
      ],
      "metadata": {
        "id": "AR6WsiW7Pl5G"
      }
    },
    {
      "cell_type": "code",
      "source": [],
      "metadata": {
        "id": "pQa4uVbBQGIk"
      },
      "execution_count": null,
      "outputs": []
    },
    {
      "cell_type": "markdown",
      "source": [
        "#5. Calculating S, U and X such that (U^T S U) = s; (X^T S X) = I."
      ],
      "metadata": {
        "id": "uwGzekWkQMFk"
      }
    },
    {
      "cell_type": "code",
      "source": [
        "# Calculating the overlap integral S\n",
        "# Write nested function so that it can be reused in the SCF procudure later\n",
        "\n",
        "def s_ij(i, j, basis_set):\n",
        "  integrand = sp.lambdify([[x, y, z]], basis_set[i] * basis_set[j], modules='numpy')\n",
        "  integrator = vegas.Integrator([[-3, 3], [-3, 3], [-3, 3]])\n",
        "  s = integrator(integrand, nitn=50, neval=10000).mean\n",
        "  return s\n",
        "\n",
        "# Compute S elements in parallel\n",
        "def parallel_S_matrix(basis_set):\n",
        "    n = len(basis_set)\n",
        "    S = np.zeros((n, n))\n",
        "    with ProcessPoolExecutor(max_workers=8) as executor:\n",
        "        futures = [[executor.submit(s_ij, i, j, basis_set)\n",
        "                    for j in range(n)] for i in range(n)]\n",
        "        for i in range(n):\n",
        "            for j in range(n):\n",
        "                S[i, j] = futures[i][j].result()\n",
        "    return S\n",
        "\n",
        "S = parallel_S_matrix(basis_set)\n",
        "\n",
        "# Obtaining U and X\n",
        "eigenvalues, eigenvectors = np.linalg.eig(S)\n",
        "U = eigenvectors\n",
        "s_inv_sqrt = np.diag(eigenvalues**-0.5)\n",
        "X = U @ s_inv_sqrt\n",
        "\n",
        "S = parallel_S_matrix(basis_set)\n",
        "\n",
        "sp.pprint(S)\n",
        "\n",
        "# Check that X^T S X = I\n",
        "sp.pprint(X.T @ S @ X)"
      ],
      "metadata": {
        "id": "d4uY1yJjQXfP"
      },
      "execution_count": null,
      "outputs": []
    },
    {
      "cell_type": "markdown",
      "source": [
        "#6. (i) Construct h^KS = T + V + V_e/nuc + V_ee and eigenvalue equation h^KS C = SCe. (ii) Then use transformations from (5.) to solve eigenvectors + eigenenergies of (h^KS)' C' = C' e. (iii) Iterate by transforming C' -> C, reformulating rho, reformulating h^KS and solving for C' again."
      ],
      "metadata": {
        "id": "8dZ6AB3CQXnG"
      }
    },
    {
      "cell_type": "code",
      "source": [],
      "metadata": {
        "id": "j2xzSeZMRHRU"
      },
      "execution_count": null,
      "outputs": []
    },
    {
      "cell_type": "markdown",
      "source": [],
      "metadata": {
        "id": "BSdO7Cd8RHz3"
      }
    }
  ]
}